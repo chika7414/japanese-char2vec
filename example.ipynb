{
 "cells": [
  {
   "cell_type": "code",
   "execution_count": 1,
   "metadata": {},
   "outputs": [],
   "source": [
    "import gensim\n",
    "cv = gensim.models.KeyedVectors.load_word2vec_format('char2vec.kv', binary=False)"
   ]
  },
  {
   "cell_type": "code",
   "execution_count": 2,
   "metadata": {},
   "outputs": [
    {
     "data": {
      "text/plain": [
       "array([ 2.2382650e+00, -6.7551131e+00,  4.8948927e+00,  2.4779034e+00,\n",
       "       -1.7201873e+00, -2.7885059e-01, -5.8313596e-01,  2.6344371e-03,\n",
       "        2.3921456e+00, -3.1196606e+00,  1.1418632e-01, -7.3397297e-01,\n",
       "       -8.1948776e+00,  1.6820320e+00, -2.4626973e+00,  3.7468503e+00,\n",
       "       -1.7767433e+00, -1.2402305e+01,  3.8498900e+00,  4.3759724e-01,\n",
       "       -2.4882786e+00,  4.8108840e+00,  7.7923841e+00, -2.6115546e+00,\n",
       "        7.9098144e+00, -4.1073813e+00,  3.5017831e+00,  1.4782059e+00,\n",
       "        1.0320886e+00,  3.6942880e+00, -1.8721967e+00, -9.0427990e+00,\n",
       "        8.1320918e-01, -7.7003016e+00,  5.5849257e+00, -5.2815992e-01,\n",
       "       -2.6816621e+00, -7.9738855e-01,  3.2644212e+00, -1.6244141e+01,\n",
       "        2.8920085e+00, -1.3990648e+01,  1.7862663e+00,  9.8406076e+00,\n",
       "       -6.6381998e+00,  1.7586943e+00, -5.6834812e+00, -4.8395987e+00,\n",
       "       -1.0756006e+00,  5.7661781e+00], dtype=float32)"
      ]
     },
     "execution_count": 2,
     "metadata": {},
     "output_type": "execute_result"
    }
   ],
   "source": [
    "cv.get_vector(\"水\")"
   ]
  },
  {
   "cell_type": "code",
   "execution_count": 8,
   "metadata": {},
   "outputs": [
    {
     "data": {
      "text/plain": [
       "[('猫', 0.8090894222259521),\n",
       " ('羊', 0.7196406722068787),\n",
       " ('牛', 0.7055059671401978),\n",
       " ('豚', 0.6423577666282654),\n",
       " ('鶏', 0.6369490623474121)]"
      ]
     },
     "execution_count": 8,
     "metadata": {},
     "output_type": "execute_result"
    }
   ],
   "source": [
    "cv.most_similar(\"犬\")[:5]"
   ]
  },
  {
   "cell_type": "code",
   "execution_count": 9,
   "metadata": {},
   "outputs": [
    {
     "data": {
      "text/plain": [
       "[('父', 0.7837796807289124),\n",
       " ('兄', 0.7615769505500793),\n",
       " ('娘', 0.7296187281608582),\n",
       " ('姉', 0.6634639501571655),\n",
       " ('婿', 0.6432684659957886)]"
      ]
     },
     "execution_count": 9,
     "metadata": {},
     "output_type": "execute_result"
    }
   ],
   "source": [
    "cv.most_similar(positive=[\"母\", \"男\"], negative=[\"女\"])[:5]"
   ]
  },
  {
   "cell_type": "code",
   "execution_count": null,
   "metadata": {},
   "outputs": [],
   "source": []
  }
 ],
 "metadata": {
  "kernelspec": {
   "display_name": "Python 3",
   "language": "python",
   "name": "python3"
  },
  "language_info": {
   "codemirror_mode": {
    "name": "ipython",
    "version": 3
   },
   "file_extension": ".py",
   "mimetype": "text/x-python",
   "name": "python",
   "nbconvert_exporter": "python",
   "pygments_lexer": "ipython3",
   "version": "3.6.9"
  }
 },
 "nbformat": 4,
 "nbformat_minor": 2
}
